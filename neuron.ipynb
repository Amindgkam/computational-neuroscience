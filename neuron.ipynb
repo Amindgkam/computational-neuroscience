{
 "cells": [
  {
   "cell_type": "code",
   "execution_count": 1,
   "id": "c9aa4337-61eb-40aa-8cdb-e216cf87e93d",
   "metadata": {},
   "outputs": [],
   "source": [
    "import neuron\n",
    "from neuron import h, rxd, gui\n",
    "from neuron.units import ms, mV"
   ]
  },
  {
   "cell_type": "code",
   "execution_count": 2,
   "id": "78a985ac-7995-4056-8d56-7b616e5e2dcd",
   "metadata": {},
   "outputs": [],
   "source": [
    "soma = h.Section(name=\"soma\")"
   ]
  },
  {
   "cell_type": "code",
   "execution_count": 3,
   "id": "58a98510-97e8-4311-9213-574144155eee",
   "metadata": {},
   "outputs": [
    {
     "name": "stdout",
     "output_type": "stream",
     "text": [
      "\n",
      "|-|       soma(0-1)\n",
      "\n"
     ]
    },
    {
     "data": {
      "text/plain": [
       "1.0"
      ]
     },
     "execution_count": 3,
     "metadata": {},
     "output_type": "execute_result"
    }
   ],
   "source": [
    "h.topology()"
   ]
  },
  {
   "cell_type": "code",
   "execution_count": 4,
   "id": "c9f9819a-bef7-4a07-a12f-74b8d5f12682",
   "metadata": {},
   "outputs": [
    {
     "data": {
      "text/plain": [
       "{'point_processes': {},\n",
       " 'density_mechs': {},\n",
       " 'ions': {},\n",
       " 'morphology': {'L': 100.0,\n",
       "  'diam': [500.0],\n",
       "  'pts3d': [],\n",
       "  'parent': None,\n",
       "  'trueparent': None},\n",
       " 'nseg': 1,\n",
       " 'Ra': 35.4,\n",
       " 'cm': [1.0],\n",
       " 'regions': set(),\n",
       " 'species': set(),\n",
       " 'name': 'soma',\n",
       " 'hoc_internal_name': '__nrnsec_0x210e690',\n",
       " 'cell': None}"
      ]
     },
     "execution_count": 4,
     "metadata": {},
     "output_type": "execute_result"
    }
   ],
   "source": [
    "soma.psection()"
   ]
  },
  {
   "cell_type": "code",
   "execution_count": 5,
   "id": "bfc1c9db-d612-491b-b7b2-588791f92cb7",
   "metadata": {},
   "outputs": [
    {
     "data": {
      "text/plain": [
       "100.0"
      ]
     },
     "execution_count": 5,
     "metadata": {},
     "output_type": "execute_result"
    }
   ],
   "source": [
    "soma.psection()[\"morphology\"][\"L\"]"
   ]
  },
  {
   "cell_type": "code",
   "execution_count": 6,
   "id": "f049bd67-9697-4b79-9dd8-407e7498785b",
   "metadata": {},
   "outputs": [],
   "source": [
    "soma.L = 20\n",
    "soma.diam = 20"
   ]
  },
  {
   "cell_type": "code",
   "execution_count": 7,
   "id": "4ced99e8-049f-4e66-a55b-ed34ceb3f788",
   "metadata": {},
   "outputs": [
    {
     "data": {
      "text/plain": [
       "['L',\n",
       " 'Ra',\n",
       " '__call__',\n",
       " '__class__',\n",
       " '__contains__',\n",
       " '__delattr__',\n",
       " '__dir__',\n",
       " '__doc__',\n",
       " '__eq__',\n",
       " '__format__',\n",
       " '__ge__',\n",
       " '__getattribute__',\n",
       " '__getstate__',\n",
       " '__gt__',\n",
       " '__hash__',\n",
       " '__init__',\n",
       " '__init_subclass__',\n",
       " '__iter__',\n",
       " '__le__',\n",
       " '__lt__',\n",
       " '__module__',\n",
       " '__ne__',\n",
       " '__new__',\n",
       " '__reduce__',\n",
       " '__reduce_ex__',\n",
       " '__repr__',\n",
       " '__setattr__',\n",
       " '__sizeof__',\n",
       " '__str__',\n",
       " '__subclasshook__',\n",
       " 'allseg',\n",
       " 'arc3d',\n",
       " 'cell',\n",
       " 'children',\n",
       " 'connect',\n",
       " 'diam3d',\n",
       " 'disconnect',\n",
       " 'has_membrane',\n",
       " 'hname',\n",
       " 'hoc_internal_name',\n",
       " 'insert',\n",
       " 'is_pysec',\n",
       " 'n3d',\n",
       " 'name',\n",
       " 'nseg',\n",
       " 'orientation',\n",
       " 'parentseg',\n",
       " 'psection',\n",
       " 'pt3dadd',\n",
       " 'pt3dchange',\n",
       " 'pt3dclear',\n",
       " 'pt3dinsert',\n",
       " 'pt3dremove',\n",
       " 'pt3dstyle',\n",
       " 'push',\n",
       " 'rallbranch',\n",
       " 'same',\n",
       " 'spine3d',\n",
       " 'subtree',\n",
       " 'trueparentseg',\n",
       " 'uninsert',\n",
       " 'wholetree',\n",
       " 'x3d',\n",
       " 'y3d',\n",
       " 'z3d']"
      ]
     },
     "execution_count": 7,
     "metadata": {},
     "output_type": "execute_result"
    }
   ],
   "source": [
    "dir(soma)"
   ]
  },
  {
   "cell_type": "code",
   "execution_count": 8,
   "id": "2a891e64-f747-4244-8b75-e3a6c6e3972e",
   "metadata": {},
   "outputs": [
    {
     "data": {
      "text/plain": [
       "\u001b[0;31mDocstring:\u001b[0m\n",
       "childSection.connect(parentSection, [parentX], [childEnd]) or\n",
       "childSection.connect(parentSegment, [childEnd])\n",
       "\u001b[0;31mType:\u001b[0m      builtin_function_or_method"
      ]
     },
     "metadata": {},
     "output_type": "display_data"
    }
   ],
   "source": [
    "?soma.connect"
   ]
  },
  {
   "cell_type": "code",
   "execution_count": 9,
   "id": "c818e07c-f405-461b-b331-e146388984f6",
   "metadata": {},
   "outputs": [
    {
     "data": {
      "text/plain": [
       "soma"
      ]
     },
     "execution_count": 9,
     "metadata": {},
     "output_type": "execute_result"
    }
   ],
   "source": [
    "soma.insert(\"hh\")"
   ]
  },
  {
   "cell_type": "code",
   "execution_count": 10,
   "id": "2d11a862-bb59-485a-bf7e-3b996aa52228",
   "metadata": {},
   "outputs": [
    {
     "name": "stdout",
     "output_type": "stream",
     "text": [
      "type(soma) = <class 'nrn.Section'>\n",
      "type(soma(0.5)) = <class 'nrn.Segment'>\n"
     ]
    }
   ],
   "source": [
    "print(\"type(soma) = {}\".format(type(soma)))\n",
    "print(\"type(soma(0.5)) = {}\".format(type(soma(0.5))))"
   ]
  },
  {
   "cell_type": "code",
   "execution_count": null,
   "id": "4c656cce-6d44-47af-a9e2-ac2ec93baf01",
   "metadata": {},
   "outputs": [],
   "source": []
  }
 ],
 "metadata": {
  "kernelspec": {
   "display_name": "Python 3 (ipykernel)",
   "language": "python",
   "name": "python3"
  },
  "language_info": {
   "codemirror_mode": {
    "name": "ipython",
    "version": 3
   },
   "file_extension": ".py",
   "mimetype": "text/x-python",
   "name": "python",
   "nbconvert_exporter": "python",
   "pygments_lexer": "ipython3",
   "version": "3.11.2"
  }
 },
 "nbformat": 4,
 "nbformat_minor": 5
}
